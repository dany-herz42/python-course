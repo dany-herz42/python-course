{
 "cells": [
  {
   "cell_type": "markdown",
   "id": "b7ef721a",
   "metadata": {},
   "source": [
    "### Nested statements and scope"
   ]
  },
  {
   "cell_type": "markdown",
   "id": "17f831bc",
   "metadata": {},
   "source": [
    "#### Local"
   ]
  },
  {
   "cell_type": "code",
   "execution_count": 1,
   "id": "d2fc26d2",
   "metadata": {},
   "outputs": [
    {
     "data": {
      "text/plain": [
       "<function __main__.<lambda>(num)>"
      ]
     },
     "execution_count": 1,
     "metadata": {},
     "output_type": "execute_result"
    }
   ],
   "source": [
    "lambda num: num ** 2"
   ]
  },
  {
   "cell_type": "markdown",
   "id": "7fa8819c",
   "metadata": {},
   "source": [
    "#### Scope"
   ]
  },
  {
   "cell_type": "code",
   "execution_count": 2,
   "id": "5a7b2f1a",
   "metadata": {},
   "outputs": [
    {
     "name": "stdout",
     "output_type": "stream",
     "text": [
      "50\n"
     ]
    }
   ],
   "source": [
    "x = 25\n",
    "\n",
    "def printer():\n",
    "    x= 50\n",
    "    return x\n",
    "\n",
    "print(printer())"
   ]
  }
 ],
 "metadata": {
  "kernelspec": {
   "display_name": "Python 3 (ipykernel)",
   "language": "python",
   "name": "python3"
  },
  "language_info": {
   "codemirror_mode": {
    "name": "ipython",
    "version": 3
   },
   "file_extension": ".py",
   "mimetype": "text/x-python",
   "name": "python",
   "nbconvert_exporter": "python",
   "pygments_lexer": "ipython3",
   "version": "3.10.6"
  }
 },
 "nbformat": 4,
 "nbformat_minor": 5
}
