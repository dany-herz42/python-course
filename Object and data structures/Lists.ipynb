{
 "cells": [
  {
   "cell_type": "markdown",
   "id": "bf2c6260",
   "metadata": {},
   "source": [
    "### Lists"
   ]
  },
  {
   "cell_type": "code",
   "execution_count": 1,
   "id": "3b41abb5",
   "metadata": {},
   "outputs": [],
   "source": [
    "my_list = [1,2,3]"
   ]
  },
  {
   "cell_type": "code",
   "execution_count": 2,
   "id": "8b60ff27",
   "metadata": {},
   "outputs": [],
   "source": [
    "my_list = ['STRING',100,3.2]"
   ]
  },
  {
   "cell_type": "code",
   "execution_count": 3,
   "id": "9bfc4417",
   "metadata": {},
   "outputs": [
    {
     "data": {
      "text/plain": [
       "3"
      ]
     },
     "execution_count": 3,
     "metadata": {},
     "output_type": "execute_result"
    }
   ],
   "source": [
    "len(my_list)"
   ]
  },
  {
   "cell_type": "code",
   "execution_count": 4,
   "id": "08e3ff90",
   "metadata": {},
   "outputs": [],
   "source": [
    "my_list_two = ['one','two','three']"
   ]
  },
  {
   "cell_type": "code",
   "execution_count": 5,
   "id": "0e715df1",
   "metadata": {},
   "outputs": [
    {
     "data": {
      "text/plain": [
       "['two', 'three']"
      ]
     },
     "execution_count": 5,
     "metadata": {},
     "output_type": "execute_result"
    }
   ],
   "source": [
    "my_list_two[1:]"
   ]
  },
  {
   "cell_type": "code",
   "execution_count": 6,
   "id": "f7b3e120",
   "metadata": {},
   "outputs": [],
   "source": [
    "another_list = ['four','five']"
   ]
  },
  {
   "cell_type": "code",
   "execution_count": 7,
   "id": "d5576ec1",
   "metadata": {},
   "outputs": [],
   "source": [
    "new_list = my_list_two + another_list"
   ]
  },
  {
   "cell_type": "code",
   "execution_count": 8,
   "id": "3790f3be",
   "metadata": {},
   "outputs": [
    {
     "data": {
      "text/plain": [
       "['ONE ALL CAPS', 'two', 'three', 'four', 'five']"
      ]
     },
     "execution_count": 8,
     "metadata": {},
     "output_type": "execute_result"
    }
   ],
   "source": [
    "new_list[0] = 'ONE ALL CAPS'\n",
    "new_list"
   ]
  },
  {
   "cell_type": "code",
   "execution_count": 9,
   "id": "18ed326b",
   "metadata": {},
   "outputs": [
    {
     "data": {
      "text/plain": [
       "['ONE ALL CAPS', 'two', 'three', 'four', 'five', 'six']"
      ]
     },
     "execution_count": 9,
     "metadata": {},
     "output_type": "execute_result"
    }
   ],
   "source": [
    "new_list.append('six')\n",
    "new_list"
   ]
  },
  {
   "cell_type": "code",
   "execution_count": 10,
   "id": "376a3898",
   "metadata": {},
   "outputs": [
    {
     "data": {
      "text/plain": [
       "'six'"
      ]
     },
     "execution_count": 10,
     "metadata": {},
     "output_type": "execute_result"
    }
   ],
   "source": [
    "popped_item = new_list.pop()\n",
    "popped_item"
   ]
  },
  {
   "cell_type": "code",
   "execution_count": 11,
   "id": "6707a470",
   "metadata": {},
   "outputs": [
    {
     "data": {
      "text/plain": [
       "['ONE ALL CAPS', 'two', 'three', 'four', 'five']"
      ]
     },
     "execution_count": 11,
     "metadata": {},
     "output_type": "execute_result"
    }
   ],
   "source": [
    "new_list"
   ]
  },
  {
   "cell_type": "code",
   "execution_count": 12,
   "id": "a3c754c6",
   "metadata": {},
   "outputs": [
    {
     "data": {
      "text/plain": [
       "'ONE ALL CAPS'"
      ]
     },
     "execution_count": 12,
     "metadata": {},
     "output_type": "execute_result"
    }
   ],
   "source": [
    "new_list.pop(0)"
   ]
  },
  {
   "cell_type": "code",
   "execution_count": 13,
   "id": "fe26eb9b",
   "metadata": {},
   "outputs": [],
   "source": [
    "letters_list = ['b','c','a','g','d','f','e']"
   ]
  },
  {
   "cell_type": "code",
   "execution_count": 14,
   "id": "182bd5c0",
   "metadata": {},
   "outputs": [
    {
     "data": {
      "text/plain": [
       "['a', 'b', 'c', 'd', 'e', 'f', 'g']"
      ]
     },
     "execution_count": 14,
     "metadata": {},
     "output_type": "execute_result"
    }
   ],
   "source": [
    "letters_list.sort()\n",
    "letters_list"
   ]
  }
 ],
 "metadata": {
  "kernelspec": {
   "display_name": "Python 3 (ipykernel)",
   "language": "python",
   "name": "python3"
  },
  "language_info": {
   "codemirror_mode": {
    "name": "ipython",
    "version": 3
   },
   "file_extension": ".py",
   "mimetype": "text/x-python",
   "name": "python",
   "nbconvert_exporter": "python",
   "pygments_lexer": "ipython3",
   "version": "3.10.6"
  }
 },
 "nbformat": 4,
 "nbformat_minor": 5
}
