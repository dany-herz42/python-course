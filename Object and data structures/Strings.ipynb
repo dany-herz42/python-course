{
 "cells": [
  {
   "cell_type": "markdown",
   "id": "cdd9d6de",
   "metadata": {},
   "source": [
    "### Strings"
   ]
  },
  {
   "cell_type": "code",
   "execution_count": 1,
   "id": "fed19922",
   "metadata": {},
   "outputs": [
    {
     "data": {
      "text/plain": [
       "'Hello'"
      ]
     },
     "execution_count": 1,
     "metadata": {},
     "output_type": "execute_result"
    }
   ],
   "source": [
    "'Hello'"
   ]
  },
  {
   "cell_type": "code",
   "execution_count": 2,
   "id": "cbdfea2f",
   "metadata": {},
   "outputs": [
    {
     "data": {
      "text/plain": [
       "'world!'"
      ]
     },
     "execution_count": 2,
     "metadata": {},
     "output_type": "execute_result"
    }
   ],
   "source": [
    "\"world!\""
   ]
  },
  {
   "cell_type": "code",
   "execution_count": 3,
   "id": "00b31b50",
   "metadata": {},
   "outputs": [
    {
     "data": {
      "text/plain": [
       "'this is also a string'"
      ]
     },
     "execution_count": 3,
     "metadata": {},
     "output_type": "execute_result"
    }
   ],
   "source": [
    "\"this is also a string\""
   ]
  },
  {
   "cell_type": "code",
   "execution_count": 4,
   "id": "fdfec364",
   "metadata": {},
   "outputs": [
    {
     "data": {
      "text/plain": [
       "\"I'm going a run\""
      ]
     },
     "execution_count": 4,
     "metadata": {},
     "output_type": "execute_result"
    }
   ],
   "source": [
    "\"I'm going a run\""
   ]
  },
  {
   "cell_type": "code",
   "execution_count": 12,
   "id": "e0918303",
   "metadata": {},
   "outputs": [
    {
     "name": "stdout",
     "output_type": "stream",
     "text": [
      "hello \tworld\n"
     ]
    }
   ],
   "source": [
    "print(\"hello \\tworld\")"
   ]
  },
  {
   "cell_type": "code",
   "execution_count": 13,
   "id": "df5b62a5",
   "metadata": {},
   "outputs": [
    {
     "data": {
      "text/plain": [
       "5"
      ]
     },
     "execution_count": 13,
     "metadata": {},
     "output_type": "execute_result"
    }
   ],
   "source": [
    "len(\"hello\")"
   ]
  },
  {
   "cell_type": "code",
   "execution_count": 15,
   "id": "599c7cb9",
   "metadata": {},
   "outputs": [
    {
     "data": {
      "text/plain": [
       "'Hello world'"
      ]
     },
     "execution_count": 15,
     "metadata": {},
     "output_type": "execute_result"
    }
   ],
   "source": [
    "my_string = \"Hello world\"\n",
    "my_string"
   ]
  },
  {
   "cell_type": "code",
   "execution_count": 16,
   "id": "0b30f827",
   "metadata": {},
   "outputs": [
    {
     "data": {
      "text/plain": [
       "'H'"
      ]
     },
     "execution_count": 16,
     "metadata": {},
     "output_type": "execute_result"
    }
   ],
   "source": [
    "my_string[0]"
   ]
  },
  {
   "cell_type": "code",
   "execution_count": 17,
   "id": "ce6255c3",
   "metadata": {},
   "outputs": [
    {
     "data": {
      "text/plain": [
       "'r'"
      ]
     },
     "execution_count": 17,
     "metadata": {},
     "output_type": "execute_result"
    }
   ],
   "source": [
    "my_string[8]"
   ]
  },
  {
   "cell_type": "code",
   "execution_count": 18,
   "id": "e298d43e",
   "metadata": {},
   "outputs": [
    {
     "data": {
      "text/plain": [
       "'l'"
      ]
     },
     "execution_count": 18,
     "metadata": {},
     "output_type": "execute_result"
    }
   ],
   "source": [
    "my_string[-2]"
   ]
  },
  {
   "cell_type": "code",
   "execution_count": 19,
   "id": "b75a9d09",
   "metadata": {},
   "outputs": [],
   "source": [
    "my_string = \"abcdefghijk\""
   ]
  },
  {
   "cell_type": "code",
   "execution_count": 20,
   "id": "b428a465",
   "metadata": {},
   "outputs": [
    {
     "data": {
      "text/plain": [
       "'cdefghijk'"
      ]
     },
     "execution_count": 20,
     "metadata": {},
     "output_type": "execute_result"
    }
   ],
   "source": [
    "my_string[2:]"
   ]
  },
  {
   "cell_type": "code",
   "execution_count": 21,
   "id": "002cffd9",
   "metadata": {},
   "outputs": [
    {
     "data": {
      "text/plain": [
       "'abc'"
      ]
     },
     "execution_count": 21,
     "metadata": {},
     "output_type": "execute_result"
    }
   ],
   "source": [
    "my_string[:3]"
   ]
  },
  {
   "cell_type": "code",
   "execution_count": 23,
   "id": "09f65ce8",
   "metadata": {},
   "outputs": [
    {
     "data": {
      "text/plain": [
       "'def'"
      ]
     },
     "execution_count": 23,
     "metadata": {},
     "output_type": "execute_result"
    }
   ],
   "source": [
    "my_string[3:6]"
   ]
  },
  {
   "cell_type": "code",
   "execution_count": 25,
   "id": "3e18c656",
   "metadata": {},
   "outputs": [
    {
     "data": {
      "text/plain": [
       "'acegik'"
      ]
     },
     "execution_count": 25,
     "metadata": {},
     "output_type": "execute_result"
    }
   ],
   "source": [
    "my_string[::2]"
   ]
  },
  {
   "cell_type": "code",
   "execution_count": 26,
   "id": "0a6e1b2e",
   "metadata": {},
   "outputs": [
    {
     "data": {
      "text/plain": [
       "'abcdefghijk'"
      ]
     },
     "execution_count": 26,
     "metadata": {},
     "output_type": "execute_result"
    }
   ],
   "source": [
    "my_string"
   ]
  },
  {
   "cell_type": "code",
   "execution_count": 35,
   "id": "bb5dcd47",
   "metadata": {},
   "outputs": [
    {
     "data": {
      "text/plain": [
       "''"
      ]
     },
     "execution_count": 35,
     "metadata": {},
     "output_type": "execute_result"
    }
   ],
   "source": [
    "my_string[2:7:1]"
   ]
  },
  {
   "cell_type": "code",
   "execution_count": 36,
   "id": "7ab5cd62",
   "metadata": {},
   "outputs": [
    {
     "data": {
      "text/plain": [
       "'kjihgfedcba'"
      ]
     },
     "execution_count": 36,
     "metadata": {},
     "output_type": "execute_result"
    }
   ],
   "source": [
    "my_string[::-1]"
   ]
  },
  {
   "cell_type": "markdown",
   "id": "453a0229",
   "metadata": {},
   "source": [
    "### Immutability"
   ]
  },
  {
   "cell_type": "code",
   "execution_count": 40,
   "id": "9e170741",
   "metadata": {},
   "outputs": [],
   "source": [
    "name = \"Sam\""
   ]
  },
  {
   "cell_type": "code",
   "execution_count": 38,
   "id": "39b0e003",
   "metadata": {},
   "outputs": [],
   "source": [
    "#name[0] = \"P\""
   ]
  },
  {
   "cell_type": "code",
   "execution_count": 47,
   "id": "4c985934",
   "metadata": {},
   "outputs": [
    {
     "data": {
      "text/plain": [
       "'Pam'"
      ]
     },
     "execution_count": 47,
     "metadata": {},
     "output_type": "execute_result"
    }
   ],
   "source": [
    "last_letters = name[1:]\n",
    "new_name = \"P\" + last_letters\n",
    "new_name"
   ]
  },
  {
   "cell_type": "code",
   "execution_count": 48,
   "id": "d8abbeab",
   "metadata": {},
   "outputs": [],
   "source": [
    "x = \"Hello world\""
   ]
  },
  {
   "cell_type": "code",
   "execution_count": 49,
   "id": "18ddc0fa",
   "metadata": {},
   "outputs": [
    {
     "data": {
      "text/plain": [
       "'Hello world it is a beautiful outside!'"
      ]
     },
     "execution_count": 49,
     "metadata": {},
     "output_type": "execute_result"
    }
   ],
   "source": [
    "x + ' it is a beautiful outside!'"
   ]
  },
  {
   "cell_type": "code",
   "execution_count": 52,
   "id": "b77f2a4f",
   "metadata": {},
   "outputs": [
    {
     "data": {
      "text/plain": [
       "5"
      ]
     },
     "execution_count": 52,
     "metadata": {},
     "output_type": "execute_result"
    }
   ],
   "source": [
    "2 + 3"
   ]
  },
  {
   "cell_type": "code",
   "execution_count": 53,
   "id": "75a8b6b6",
   "metadata": {},
   "outputs": [
    {
     "data": {
      "text/plain": [
       "'23'"
      ]
     },
     "execution_count": 53,
     "metadata": {},
     "output_type": "execute_result"
    }
   ],
   "source": [
    "'2' + '3'"
   ]
  },
  {
   "cell_type": "code",
   "execution_count": 54,
   "id": "a0b1bd67",
   "metadata": {},
   "outputs": [],
   "source": [
    "y = 'Hello world'"
   ]
  },
  {
   "cell_type": "code",
   "execution_count": 55,
   "id": "e22663d7",
   "metadata": {},
   "outputs": [
    {
     "data": {
      "text/plain": [
       "'HELLO WORLD'"
      ]
     },
     "execution_count": 55,
     "metadata": {},
     "output_type": "execute_result"
    }
   ],
   "source": [
    "y.upper()"
   ]
  },
  {
   "cell_type": "code",
   "execution_count": 56,
   "id": "fb5fcad5",
   "metadata": {},
   "outputs": [
    {
     "data": {
      "text/plain": [
       "'hello world'"
      ]
     },
     "execution_count": 56,
     "metadata": {},
     "output_type": "execute_result"
    }
   ],
   "source": [
    "x.lower()"
   ]
  },
  {
   "cell_type": "code",
   "execution_count": 57,
   "id": "f917e332",
   "metadata": {},
   "outputs": [
    {
     "data": {
      "text/plain": [
       "['Hello', 'world']"
      ]
     },
     "execution_count": 57,
     "metadata": {},
     "output_type": "execute_result"
    }
   ],
   "source": [
    "x.split()"
   ]
  },
  {
   "cell_type": "code",
   "execution_count": 58,
   "id": "c3f91421",
   "metadata": {},
   "outputs": [],
   "source": [
    "z = 'Hi this is a string'"
   ]
  },
  {
   "cell_type": "code",
   "execution_count": 60,
   "id": "2adcbc4e",
   "metadata": {},
   "outputs": [
    {
     "data": {
      "text/plain": [
       "['H', ' th', 's ', 's a str', 'ng']"
      ]
     },
     "execution_count": 60,
     "metadata": {},
     "output_type": "execute_result"
    }
   ],
   "source": [
    "z.split('i')"
   ]
  },
  {
   "cell_type": "markdown",
   "id": "b0628e2d",
   "metadata": {},
   "source": [
    "### Formatting with the .format() method"
   ]
  },
  {
   "cell_type": "markdown",
   "id": "363400a0",
   "metadata": {},
   "source": [
    "'String here {} then also{}'.format('something1', 'something2')"
   ]
  },
  {
   "cell_type": "code",
   "execution_count": 62,
   "id": "825629a3",
   "metadata": {},
   "outputs": [
    {
     "data": {
      "text/plain": [
       "'String here something1 then also something2'"
      ]
     },
     "execution_count": 62,
     "metadata": {},
     "output_type": "execute_result"
    }
   ],
   "source": [
    "'String here {} then also {}'.format('something1', 'something2')"
   ]
  },
  {
   "cell_type": "code",
   "execution_count": 63,
   "id": "7af134ea",
   "metadata": {},
   "outputs": [
    {
     "name": "stdout",
     "output_type": "stream",
     "text": [
      "This is a string INSERTED\n"
     ]
    }
   ],
   "source": [
    "print('This is a string {}'.format('INSERTED'))"
   ]
  },
  {
   "cell_type": "code",
   "execution_count": 64,
   "id": "91330619",
   "metadata": {},
   "outputs": [
    {
     "name": "stdout",
     "output_type": "stream",
     "text": [
      "The fox brown quick\n"
     ]
    }
   ],
   "source": [
    "print(\"The {} {} {}\".format('fox','brown','quick'))"
   ]
  },
  {
   "cell_type": "code",
   "execution_count": 66,
   "id": "7d45b4bf",
   "metadata": {},
   "outputs": [
    {
     "name": "stdout",
     "output_type": "stream",
     "text": [
      "The quick brown fox\n"
     ]
    }
   ],
   "source": [
    "print(\"The {2} {1} {0}\".format('fox','brown','quick'))"
   ]
  },
  {
   "cell_type": "code",
   "execution_count": 68,
   "id": "91b197f9",
   "metadata": {},
   "outputs": [
    {
     "name": "stdout",
     "output_type": "stream",
     "text": [
      "The quick brown fox\n"
     ]
    }
   ],
   "source": [
    "print(\"The {q} {b} {f}\".format(f = 'fox',b = 'brown',q = 'quick'))"
   ]
  },
  {
   "cell_type": "markdown",
   "id": "d14343b3",
   "metadata": {},
   "source": [
    "### Float formatting follows \"{value:width.precision f}\""
   ]
  },
  {
   "cell_type": "code",
   "execution_count": 69,
   "id": "c62cfe5d",
   "metadata": {},
   "outputs": [],
   "source": [
    "result = 100 / 777"
   ]
  },
  {
   "cell_type": "code",
   "execution_count": 70,
   "id": "734a8c2c",
   "metadata": {},
   "outputs": [
    {
     "data": {
      "text/plain": [
       "0.1287001287001287"
      ]
     },
     "execution_count": 70,
     "metadata": {},
     "output_type": "execute_result"
    }
   ],
   "source": [
    "result"
   ]
  },
  {
   "cell_type": "code",
   "execution_count": 73,
   "id": "9637e58e",
   "metadata": {},
   "outputs": [
    {
     "name": "stdout",
     "output_type": "stream",
     "text": [
      "The result was: 0.1287001287001287\n"
     ]
    }
   ],
   "source": [
    "print(\"The result was: {}\".format(result))"
   ]
  },
  {
   "cell_type": "code",
   "execution_count": 89,
   "id": "cb3aa203",
   "metadata": {},
   "outputs": [
    {
     "name": "stdout",
     "output_type": "stream",
     "text": [
      "The result was: 0.12870\n"
     ]
    }
   ],
   "source": [
    "print(\"The result was: {r:1.5f}\".format(r =result))"
   ]
  },
  {
   "cell_type": "markdown",
   "id": "2087c205",
   "metadata": {},
   "source": [
    "### Format f strings"
   ]
  },
  {
   "cell_type": "code",
   "execution_count": 92,
   "id": "67de88d7",
   "metadata": {},
   "outputs": [
    {
     "name": "stdout",
     "output_type": "stream",
     "text": [
      "Hello, his name is Jose\n"
     ]
    }
   ],
   "source": [
    "name = \"Jose\"\n",
    "print('Hello, his name is {}'.format(name))"
   ]
  },
  {
   "cell_type": "code",
   "execution_count": 93,
   "id": "b25e7832",
   "metadata": {},
   "outputs": [
    {
     "name": "stdout",
     "output_type": "stream",
     "text": [
      "Hello, his name is Jose\n"
     ]
    }
   ],
   "source": [
    "print(f\"Hello, his name is {name}\")"
   ]
  },
  {
   "cell_type": "code",
   "execution_count": null,
   "id": "9b0e332a",
   "metadata": {},
   "outputs": [],
   "source": []
  }
 ],
 "metadata": {
  "kernelspec": {
   "display_name": "Python 3 (ipykernel)",
   "language": "python",
   "name": "python3"
  },
  "language_info": {
   "codemirror_mode": {
    "name": "ipython",
    "version": 3
   },
   "file_extension": ".py",
   "mimetype": "text/x-python",
   "name": "python",
   "nbconvert_exporter": "python",
   "pygments_lexer": "ipython3",
   "version": "3.10.6"
  }
 },
 "nbformat": 4,
 "nbformat_minor": 5
}
