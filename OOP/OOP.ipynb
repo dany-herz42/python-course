{
 "cells": [
  {
   "cell_type": "markdown",
   "id": "83a60601",
   "metadata": {},
   "source": [
    "### OOP"
   ]
  },
  {
   "cell_type": "markdown",
   "id": "6b27c26a",
   "metadata": {},
   "source": [
    "#### Attributes"
   ]
  },
  {
   "cell_type": "code",
   "execution_count": 1,
   "id": "f4d3265d",
   "metadata": {},
   "outputs": [],
   "source": [
    "class Dog():\n",
    "    \n",
    "    species = 'mammal'\n",
    "    \n",
    "    def __init__(self, breed, name, spots):\n",
    "        self.breed = breed\n",
    "        self.name = name\n",
    "        self.spots = spots\n",
    "    \n",
    "    def bark(self, number):\n",
    "        print(f'WOOF! My name is {self.name} and the number is {number}')\n",
    "        "
   ]
  },
  {
   "cell_type": "code",
   "execution_count": 2,
   "id": "e4e57dff",
   "metadata": {},
   "outputs": [],
   "source": [
    "my_dog = Dog(breed='Husky', name=\"Dembow\", spots=False)"
   ]
  },
  {
   "cell_type": "code",
   "execution_count": 3,
   "id": "b8d86c61",
   "metadata": {},
   "outputs": [
    {
     "name": "stdout",
     "output_type": "stream",
     "text": [
      "WOOF! My name is Dembow and the number is 3\n"
     ]
    }
   ],
   "source": [
    "my_dog.bark(3)"
   ]
  },
  {
   "cell_type": "markdown",
   "id": "afb31b21",
   "metadata": {},
   "source": [
    "#### Methods"
   ]
  },
  {
   "cell_type": "code",
   "execution_count": 4,
   "id": "5b370bf3",
   "metadata": {},
   "outputs": [],
   "source": [
    "class Circle():\n",
    "    pi = 3.14\n",
    "    \n",
    "    def __init__(self, radius=1):\n",
    "        self.radius = radius\n",
    "        self.area = (self.pi * self.radius) ** 2\n",
    "    \n",
    "    def get_circumference(self):\n",
    "        return self.radius * self.pi"
   ]
  },
  {
   "cell_type": "code",
   "execution_count": 5,
   "id": "cda83424",
   "metadata": {},
   "outputs": [],
   "source": [
    "my_circle = Circle(30)"
   ]
  },
  {
   "cell_type": "code",
   "execution_count": 6,
   "id": "0b693ca5",
   "metadata": {},
   "outputs": [
    {
     "data": {
      "text/plain": [
       "8873.640000000001"
      ]
     },
     "execution_count": 6,
     "metadata": {},
     "output_type": "execute_result"
    }
   ],
   "source": [
    "my_circle.area"
   ]
  },
  {
   "cell_type": "markdown",
   "id": "b678c499",
   "metadata": {},
   "source": [
    "#### Polimorfism"
   ]
  },
  {
   "cell_type": "code",
   "execution_count": 7,
   "id": "8c6d6a22",
   "metadata": {},
   "outputs": [],
   "source": [
    "class Animal():\n",
    "    def __init__(self):\n",
    "        print(\"Animal created\")\n",
    "    \n",
    "    def who_am_i(self):\n",
    "        print(\"I am an animal\")\n",
    "    \n",
    "    def eat(self):\n",
    "        print(\"I am eating\")"
   ]
  },
  {
   "cell_type": "code",
   "execution_count": 8,
   "id": "6663ad57",
   "metadata": {},
   "outputs": [
    {
     "name": "stdout",
     "output_type": "stream",
     "text": [
      "Animal created\n"
     ]
    }
   ],
   "source": [
    "myanimal = Animal()"
   ]
  },
  {
   "cell_type": "code",
   "execution_count": 9,
   "id": "769fcc91",
   "metadata": {},
   "outputs": [
    {
     "name": "stdout",
     "output_type": "stream",
     "text": [
      "Animal created\n",
      "Dog created\n"
     ]
    }
   ],
   "source": [
    "class Dog(Animal):\n",
    "    def __init__(self):\n",
    "        Animal.__init__(self)\n",
    "        print(\"Dog created\")\n",
    "        \n",
    "    def who_am_i(self):\n",
    "        print(\"I am a dog\")\n",
    "    \n",
    "    def bark(self):\n",
    "        print(f'WOOF!')\n",
    "        \n",
    "\n",
    "mydog = Dog()\n",
    "    "
   ]
  },
  {
   "cell_type": "code",
   "execution_count": 10,
   "id": "9ad4cd03",
   "metadata": {},
   "outputs": [
    {
     "name": "stdout",
     "output_type": "stream",
     "text": [
      "WOOF!\n"
     ]
    }
   ],
   "source": [
    "mydog.bark()"
   ]
  },
  {
   "cell_type": "markdown",
   "id": "1d7d7c04",
   "metadata": {},
   "source": [
    "#### Polimorfism"
   ]
  },
  {
   "cell_type": "code",
   "execution_count": 11,
   "id": "de0c994c",
   "metadata": {},
   "outputs": [],
   "source": [
    "class Dog():\n",
    "    def __init__(self, name):\n",
    "        self.name = name\n",
    "        \n",
    "    def speak(self):\n",
    "        return self.name + ' says woof!'"
   ]
  },
  {
   "cell_type": "code",
   "execution_count": 12,
   "id": "edbe135e",
   "metadata": {},
   "outputs": [],
   "source": [
    "class Cat():\n",
    "    def __init__(self, name):\n",
    "        self.name = name\n",
    "        \n",
    "    def speak(self):\n",
    "        return self.name + ' says meow!'"
   ]
  },
  {
   "cell_type": "code",
   "execution_count": 13,
   "id": "ee774e2e",
   "metadata": {},
   "outputs": [],
   "source": [
    "niko = Dog(\"niko\")\n",
    "felix = Cat(\"felix\")"
   ]
  },
  {
   "cell_type": "code",
   "execution_count": 14,
   "id": "2a77d8e7",
   "metadata": {},
   "outputs": [
    {
     "name": "stdout",
     "output_type": "stream",
     "text": [
      "<class '__main__.Dog'>\n",
      "niko says woof!\n",
      "<class '__main__.Cat'>\n",
      "felix says meow!\n"
     ]
    }
   ],
   "source": [
    "for pet in [niko, felix]:\n",
    "    print(type(pet))\n",
    "    print(pet.speak())"
   ]
  },
  {
   "cell_type": "code",
   "execution_count": 15,
   "id": "93d95995",
   "metadata": {},
   "outputs": [],
   "source": [
    "def pet_speak(pet):\n",
    "    print(pet.speak())"
   ]
  },
  {
   "cell_type": "code",
   "execution_count": 16,
   "id": "25c6352f",
   "metadata": {},
   "outputs": [
    {
     "name": "stdout",
     "output_type": "stream",
     "text": [
      "niko says woof!\n"
     ]
    }
   ],
   "source": [
    "pet_speak(niko)"
   ]
  },
  {
   "cell_type": "code",
   "execution_count": 18,
   "id": "b6ed43d2",
   "metadata": {},
   "outputs": [
    {
     "name": "stdout",
     "output_type": "stream",
     "text": [
      "felix says meow!\n"
     ]
    }
   ],
   "source": [
    "pet_speak(felix)"
   ]
  },
  {
   "cell_type": "code",
   "execution_count": 21,
   "id": "36b94bd8",
   "metadata": {},
   "outputs": [],
   "source": [
    "class Animal():\n",
    "    def __init__(self, name):\n",
    "        self.name = name\n",
    "    \n",
    "    def speak(self):\n",
    "        raise NotImplementedError(\"Subclass must implement this abstract method\")"
   ]
  },
  {
   "cell_type": "code",
   "execution_count": 27,
   "id": "e3ee4fb7",
   "metadata": {},
   "outputs": [
    {
     "name": "stdout",
     "output_type": "stream",
     "text": [
      "fido says woof!\n",
      "isis says meow!\n"
     ]
    }
   ],
   "source": [
    "class Dog(Animal):\n",
    "    \n",
    "    def speak(self):\n",
    "        return self.name + \" says woof!\"\n",
    "\n",
    "class Cat(Animal):\n",
    "    \n",
    "    def speak(self):\n",
    "        return self.name + \" says meow!\"\n",
    "\n",
    "fido = Dog('fido')\n",
    "isis = Cat('isis')\n",
    "\n",
    "print(fido.speak())\n",
    "print(isis.speak())"
   ]
  },
  {
   "cell_type": "markdown",
   "id": "b12461cd",
   "metadata": {},
   "source": [
    "#### Special methods"
   ]
  },
  {
   "cell_type": "code",
   "execution_count": 36,
   "id": "53899f6b",
   "metadata": {},
   "outputs": [],
   "source": [
    "class Book():\n",
    "    def __init__(self, title, author, pages):\n",
    "        self.title = title\n",
    "        self.author = author\n",
    "        self.pages = pages\n",
    "\n",
    "    def __str__(self):\n",
    "        return f'Book: title={self.title}, author={self.author}, pages={self.pages}'\n",
    "    \n",
    "    def __len__(self):\n",
    "        return self.pages\n",
    "    \n",
    "    def __del__(self):\n",
    "        print(\"A book object has been deleted\")"
   ]
  },
  {
   "cell_type": "code",
   "execution_count": 37,
   "id": "e9509e83",
   "metadata": {},
   "outputs": [
    {
     "name": "stdout",
     "output_type": "stream",
     "text": [
      "Book: title=Python rocks, author=Daniel, pages=200\n",
      "200\n",
      "A book object has been deleted\n"
     ]
    }
   ],
   "source": [
    "mybook = Book('Python rocks', 'Daniel', 200)\n",
    "\n",
    "print(mybook)\n",
    "print(len(mybook))\n",
    "\n",
    "del mybook"
   ]
  }
 ],
 "metadata": {
  "kernelspec": {
   "display_name": "Python 3 (ipykernel)",
   "language": "python",
   "name": "python3"
  },
  "language_info": {
   "codemirror_mode": {
    "name": "ipython",
    "version": 3
   },
   "file_extension": ".py",
   "mimetype": "text/x-python",
   "name": "python",
   "nbconvert_exporter": "python",
   "pygments_lexer": "ipython3",
   "version": "3.10.6"
  }
 },
 "nbformat": 4,
 "nbformat_minor": 5
}
