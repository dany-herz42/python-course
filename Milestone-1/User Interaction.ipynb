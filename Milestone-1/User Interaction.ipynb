{
 "cells": [
  {
   "cell_type": "markdown",
   "id": "1582c305",
   "metadata": {},
   "source": [
    "### User interaction"
   ]
  },
  {
   "cell_type": "code",
   "execution_count": 1,
   "id": "aba366d1",
   "metadata": {},
   "outputs": [],
   "source": [
    "def user_choice():\n",
    "    result = ''\n",
    "    while not(result.isdigit()) or (int(result) not in range(1,11)):\n",
    "        result = input('Choice a number between 1 and 10: ')\n",
    "    print(int(result))"
   ]
  },
  {
   "cell_type": "code",
   "execution_count": 2,
   "id": "360db4f5",
   "metadata": {},
   "outputs": [
    {
     "data": {
      "text/plain": [
       "True"
      ]
     },
     "execution_count": 2,
     "metadata": {},
     "output_type": "execute_result"
    }
   ],
   "source": [
    "test = '2'\n",
    "test.isdigit()"
   ]
  },
  {
   "cell_type": "code",
   "execution_count": 4,
   "id": "361559e1",
   "metadata": {},
   "outputs": [],
   "source": [
    "def display_game(game_list):\n",
    "    print('Here is the current list: ')\n",
    "    print(game_list)"
   ]
  },
  {
   "cell_type": "code",
   "execution_count": 5,
   "id": "27a2561f",
   "metadata": {},
   "outputs": [
    {
     "name": "stdout",
     "output_type": "stream",
     "text": [
      "Here is the current list: \n",
      "[0, 1, 2]\n"
     ]
    }
   ],
   "source": [
    "display_game(game_list)"
   ]
  },
  {
   "cell_type": "code",
   "execution_count": 6,
   "id": "68250658",
   "metadata": {},
   "outputs": [],
   "source": [
    "def position_choice():\n",
    "    choice = 'wrong'\n",
    "    \n",
    "    while choice not in ['0','1','2']:\n",
    "        choice = input(\"Pick a position (0,1,2): \")\n",
    "        if choice not in ['0','1','2']:\n",
    "            print(\"Sorry, invalid choice!\")\n",
    "        \n",
    "    return int(choice)"
   ]
  },
  {
   "cell_type": "code",
   "execution_count": 7,
   "id": "2f187c5b",
   "metadata": {},
   "outputs": [],
   "source": [
    "def replacement_choice(game_list, position):\n",
    "    user_placement = input(\"Type a string to place at postion: \")\n",
    "    game_list[position] = user_placement\n",
    "    \n",
    "    return game_list"
   ]
  },
  {
   "cell_type": "code",
   "execution_count": 9,
   "id": "92a6efd5",
   "metadata": {},
   "outputs": [],
   "source": [
    "def gameon_choice():\n",
    "    choice = 'wrong'\n",
    "    \n",
    "    while choice not in ['Y','N']:\n",
    "        choice = input(\"Keep playing? (Y or N)\")\n",
    "        if choice not in ['Y','N']:\n",
    "            print(\"Sorry, I dont understand, please choose Y or N\")\n",
    "        \n",
    "    \n",
    "    if choice == 'Y':\n",
    "        return True\n",
    "    else:\n",
    "        return False"
   ]
  },
  {
   "cell_type": "code",
   "execution_count": 10,
   "id": "41f39960",
   "metadata": {},
   "outputs": [
    {
     "name": "stdout",
     "output_type": "stream",
     "text": [
      "Here is the current list: \n",
      "[0, 1, 2]\n",
      "Pick a position (0,1,2): t\n",
      "Sorry, invalid choice!\n",
      "Pick a position (0,1,2): 4\n",
      "Sorry, invalid choice!\n",
      "Pick a position (0,1,2): 2\n",
      "Type a string to place at postion: NEW\n",
      "Here is the current list: \n",
      "[0, 1, 'NEW']\n",
      "Keep playing? (Y or N)Y\n",
      "Here is the current list: \n",
      "[0, 1, 'NEW']\n",
      "Pick a position (0,1,2): 0\n",
      "Type a string to place at postion: SI\n",
      "Here is the current list: \n",
      "['SI', 1, 'NEW']\n",
      "Keep playing? (Y or N)Y\n",
      "Here is the current list: \n",
      "['SI', 1, 'NEW']\n",
      "Pick a position (0,1,2): 1\n",
      "Type a string to place at postion: NO\n",
      "Here is the current list: \n",
      "['SI', 'NO', 'NEW']\n",
      "Keep playing? (Y or N)N\n"
     ]
    }
   ],
   "source": [
    "game_on = True\n",
    "game_list = [0,1,2]\n",
    "\n",
    "while game_on:\n",
    "    \n",
    "    display_game(game_list)\n",
    "    \n",
    "    position = position_choice()\n",
    "    \n",
    "    game_list = replacement_choice(game_list, position)\n",
    "    \n",
    "    display_game(game_list)\n",
    "    \n",
    "    game_on = gameon_choice()"
   ]
  }
 ],
 "metadata": {
  "kernelspec": {
   "display_name": "Python 3 (ipykernel)",
   "language": "python",
   "name": "python3"
  },
  "language_info": {
   "codemirror_mode": {
    "name": "ipython",
    "version": 3
   },
   "file_extension": ".py",
   "mimetype": "text/x-python",
   "name": "python",
   "nbconvert_exporter": "python",
   "pygments_lexer": "ipython3",
   "version": "3.10.6"
  }
 },
 "nbformat": 4,
 "nbformat_minor": 5
}
